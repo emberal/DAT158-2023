{
 "cells": [
  {
   "cell_type": "markdown",
   "metadata": {},
   "source": [
    "Version 07.09.2023, A. S. Lundervold."
   ]
  },
  {
   "cell_type": "markdown",
   "metadata": {},
   "source": [
    "[![Google Colab](https://colab.research.google.com/assets/colab-badge.svg)](https://colab.research.google.com/github/HVL-ML/DAT158/blob/master/notebooks/DAT158-1.2-extra-Intro_to_ML.ipynb) &nbsp; [![kaggle](https://camo.githubusercontent.com/a08ca511178e691ace596a95d334f73cf4ce06e83a5c4a5169b8bb68cac27bef/68747470733a2f2f6b6167676c652e636f6d2f7374617469632f696d616765732f6f70656e2d696e2d6b6167676c652e737667)](https://www.kaggle.com/alexanderlundervold/2023-dat158-1-2-intro-to-ml-ipynb)"
   ]
  },
  {
   "cell_type": "markdown",
   "metadata": {},
   "source": [
    "# Introduction"
   ]
  },
  {
   "cell_type": "markdown",
   "metadata": {},
   "source": [
    "This notebook is a walkthrough of some key concepts in machine learning, illustrated using a simple regression problem.\n",
    "\n",
    "You don't have to understand the details at first. Many of the new concepts may be difficult to grasp immediately, and the code may be unfamiliar. That's not a problem! You should return to this notebook later in the course. Things will be clearer then. For now, focus on getting the gist of what's going on.\n",
    "\n",
    "The notebook is partly based on Chapter 1 of [Pattern Recognition and Machine Learning](https://www.microsoft.com/en-us/research/people/cmbishop/#!prml-book) by C.M. Bishop."
   ]
  },
  {
   "cell_type": "markdown",
   "metadata": {},
   "source": [
    "> **Again, it's recommended to revisit this notebook again later in the course, once you are more familiar with the topics covered here.**"
   ]
  },
  {
   "cell_type": "markdown",
   "metadata": {
    "heading_collapsed": true
   },
   "source": [
    "# Setup"
   ]
  },
  {
   "cell_type": "code",
   "execution_count": null,
   "metadata": {
    "hidden": true
   },
   "outputs": [],
   "source": [
    "%matplotlib inline\n",
    "import matplotlib.pyplot as plt\n",
    "import numpy as np"
   ]
  },
  {
   "cell_type": "code",
   "execution_count": null,
   "metadata": {
    "hidden": true
   },
   "outputs": [],
   "source": [
    "# This is a quick check of whether the notebook is currently running on Google Colaboratory\n",
    "# or on Kaggle, as that makes some difference for the code below.\n",
    "# We'll do this in every notebook of the course.\n",
    "try:\n",
    "    import google.colab\n",
    "    colab=True\n",
    "except:\n",
    "    colab=False\n",
    "\n",
    "import os\n",
    "kaggle = os.environ.get('KAGGLE_KERNEL_RUN_TYPE', '')"
   ]
  },
  {
   "cell_type": "markdown",
   "metadata": {
    "heading_collapsed": true
   },
   "source": [
    "# Problem description"
   ]
  },
  {
   "cell_type": "markdown",
   "metadata": {
    "hidden": true
   },
   "source": [
    "Say we're in a situation where we're observing input values $x$ and want to predict corresponding output values $t$. *This kind of situation covers almost everything we'll encounter in practice!* It's all about predicting the correct output from given inputs. "
   ]
  },
  {
   "cell_type": "markdown",
   "metadata": {
    "hidden": true
   },
   "source": [
    "<details>\n",
    "    <summary>Click <font color=\"red\"><b>here</b></font> for some examples</summary>\n",
    "  \n",
    "  ![](https://github.com/HVL-ML/DAT158/blob/main/notebooks/assets/input-output.png?raw=true)\n",
    "</details>"
   ]
  },
  {
   "cell_type": "markdown",
   "metadata": {
    "hidden": true
   },
   "source": [
    " The beauty of machine learning is that it has vast applicability across sectors, and the fundamental principle of learning from data to make predictions or decisions remains consistent."
   ]
  },
  {
   "cell_type": "markdown",
   "metadata": {
    "hidden": true
   },
   "source": [
    "Say that the function generating $t$'s from $x$'s is \n",
    "\n",
    "$$t = \\sin(2\\pi x).$$"
   ]
  },
  {
   "cell_type": "markdown",
   "metadata": {
    "hidden": true
   },
   "source": [
    "In code:"
   ]
  },
  {
   "cell_type": "code",
   "execution_count": null,
   "metadata": {
    "hidden": true
   },
   "outputs": [],
   "source": [
    "def f(x):\n",
    "    return np.sin(2*np.pi*x)"
   ]
  },
  {
   "cell_type": "markdown",
   "metadata": {
    "hidden": true
   },
   "source": [
    "As a graph:"
   ]
  },
  {
   "cell_type": "code",
   "execution_count": null,
   "metadata": {
    "hidden": true
   },
   "outputs": [],
   "source": [
    "X_exact = np.arange(0.0, 1.0, 0.01)\n",
    "plt.plot(X_exact, f(X_exact), 'g')\n",
    "plt.title(\"Exact connection between x and t, t=sin(2*pi*x)\")\n",
    "plt.show()"
   ]
  },
  {
   "cell_type": "markdown",
   "metadata": {
    "hidden": true
   },
   "source": [
    "That is, we assume that we know the underlying data generating process precisely, making it easier to explain the methods and compare results. \n",
    "\n",
    "> *This is of course not a typical situation. Rather, our data is usually generated by some unknowable function or process that we attempt to discover through machine learning. Moreover, often there isn't really any real functional relationship between inputs and outputs, and what we're after is more of a \"probabilistic\" function that can be of use for our given problem or situation. We set these issues aside for now."
   ]
  },
  {
   "cell_type": "markdown",
   "metadata": {
    "hidden": true
   },
   "source": [
    "We'll pretend that we don't know the connection between $x$ and $t$, and try to discover it using machine learning methods. The methods are based on a set of observations called the **training data**. These are pairs of input-outputs:\n",
    "\n",
    "- Observations of inputs: $\\mathbf{X} = (x_1, x_2, \\dots, x_N)$\n",
    "- Observations of outputs: $\\mathbf{y} = (y_1, y_2, \\dots, y_N)$."
   ]
  },
  {
   "cell_type": "markdown",
   "metadata": {
    "hidden": true
   },
   "source": [
    "We generate our outputs from the above sine function, but with some added noise (simulating random variations or inaccuracies).:"
   ]
  },
  {
   "cell_type": "code",
   "execution_count": null,
   "metadata": {
    "hidden": true
   },
   "outputs": [],
   "source": [
    "def generate_data(N, sigma, seed=42):\n",
    "    \"\"\"\n",
    "    Generate N data points sampled uniformly at random, \n",
    "    with noise added to the labels (sampled from the \n",
    "    normal distribution with standard deviation sigma). \n",
    "    Seed set to 42 by default.\n",
    "    Return: X, y\n",
    "    \"\"\"\n",
    "    np.random.seed(seed)\n",
    "    \n",
    "    # Random values between 0 and 1 sampled uniformly\n",
    "    X = np.random.rand(N)\n",
    "    \n",
    "    # Corresponding values of T, with some added noise\n",
    "    y = f(X) + sigma*np.random.randn(N)\n",
    "    \n",
    "    return X, y"
   ]
  },
  {
   "cell_type": "markdown",
   "metadata": {
    "hidden": true
   },
   "source": [
    "We'll use `N` training data points, with a noise level specified by `sigma`:"
   ]
  },
  {
   "cell_type": "code",
   "execution_count": null,
   "metadata": {
    "hidden": true
   },
   "outputs": [],
   "source": [
    "N_train = 20\n",
    "sigma=0.2\n",
    "\n",
    "X_train, y_train = generate_data(N=N_train, sigma=sigma)\n",
    "\n",
    "plt.plot(X_train, y_train, 'bo')\n",
    "plt.xlabel('X')\n",
    "plt.ylabel('y')\n",
    "plt.title(\"Training data\")\n",
    "plt.show()"
   ]
  },
  {
   "cell_type": "markdown",
   "metadata": {
    "hidden": true
   },
   "source": [
    "Let's plot the training data on top of the exact values to better illustrate our situation:"
   ]
  },
  {
   "cell_type": "code",
   "execution_count": null,
   "metadata": {
    "hidden": true
   },
   "outputs": [],
   "source": [
    "fig, ax = plt.subplots(figsize=(8,6))\n",
    "\n",
    "ax.plot(X_exact, f(X_exact), 'r--', linewidth=2, \n",
    "        label='Exact values')\n",
    "ax.plot(X_train, y_train, 'bo', markersize=8, \n",
    "        fillstyle='none', label='Training data')\n",
    "\n",
    "plt.xlabel('X')\n",
    "plt.title(f'''Plot of a training set of N = {N_train} points. \n",
    "          The green curve is the function used to generate the data''', fontsize=16)\n",
    "\n",
    "ax.legend()\n",
    "ax.grid()\n",
    "plt.show()"
   ]
  },
  {
   "cell_type": "markdown",
   "metadata": {
    "hidden": true
   },
   "source": [
    "We can make this interactive to better understand the effect of the number of points (N) and the noise level (sigma):"
   ]
  },
  {
   "cell_type": "code",
   "execution_count": null,
   "metadata": {
    "hidden": true
   },
   "outputs": [],
   "source": [
    "from ipywidgets import interact"
   ]
  },
  {
   "cell_type": "code",
   "execution_count": null,
   "metadata": {
    "hidden": true
   },
   "outputs": [],
   "source": [
    "@interact\n",
    "def plot_data(N=(1, 100, 1), sigma=(0.01, 1.0, 0.01)):\n",
    "    fig, ax = plt.subplots(figsize=(8,6))\n",
    "    X, y = generate_data(N, sigma)\n",
    "\n",
    "    ax.plot(X_exact, f(X_exact), 'r--', linewidth=2, \n",
    "        label='Exact values')\n",
    "    ax.plot(X, y, 'bo', markersize=8, \n",
    "        fillstyle='none', label='Training data')\n",
    "        \n",
    "    plt.xlabel('X')\n",
    "    plt.ylabel('y')\n",
    "    plt.ylim(-1.7, 1.7)\n",
    "    plt.title(f\"Training data, N={N}, sigma={sigma}\")\n",
    "    plt.grid(True)\n",
    "    plt.legend()\n",
    "    plt.show()"
   ]
  },
  {
   "cell_type": "markdown",
   "metadata": {
    "hidden": true
   },
   "source": [
    "This is a very common situation: you'll have a bunch of data points generated by an (unknown) **underlying process**, with some **noise** or **uncertainties**. \n",
    "\n",
    "The data points can be images, sounds, sales data from a store, patient journals from a hospital, measurements from a laser, whatever. The underlying process can be anything from a physical process to a human decision process. \n",
    "\n",
    "There are many possible sources of uncertainty; often, things we cannot model precisely. For example, there can be inherent uncertainty in the phenomenon. Or uncertainty caused by a measuring instrument. Or irreversible noise caused by data compression or some other process we cannot control. "
   ]
  },
  {
   "cell_type": "markdown",
   "metadata": {
    "hidden": true
   },
   "source": [
    "Still, we can try."
   ]
  },
  {
   "cell_type": "markdown",
   "metadata": {
    "hidden": true
   },
   "source": [
    "> **Goal**: Use the training data to predict output values given *new* values of $x$. "
   ]
  },
  {
   "cell_type": "markdown",
   "metadata": {
    "hidden": true
   },
   "source": [
    "More precisely:"
   ]
  },
  {
   "cell_type": "markdown",
   "metadata": {
    "hidden": true
   },
   "source": [
    "> **Problem Statement:** Given a set of input values, $X$, and their corresponding noisy outputs, $y$, we aim to approximate the underlying relationship between them (if any), represented by a function $f(x)$."
   ]
  },
  {
   "cell_type": "markdown",
   "metadata": {
    "heading_collapsed": true
   },
   "source": [
    "# How to solve it"
   ]
  },
  {
   "cell_type": "markdown",
   "metadata": {
    "hidden": true
   },
   "source": [
    "Let's attack the problem by choosing a family of functions equipped with some adaptive parameters. Concretely, let's use **polynomials**. We'll try to find polynomials that fit \"best\" with the training data. \n",
    "\n",
    "> Polynomials are versatile, simple to compute, and can be easily differentiated and integrated. They provide a convenient first step into understanding the world of regression.\n",
    "\n",
    "More precisely, we'll use functions of the form\n",
    "\n",
    "$$P(x, \\mathbf{w}) = w_0 + w_1 x + w_2 x^2 + \\cdots + w_M x^M,$$\n",
    "\n",
    "that we tune to the training data we've been given.\n",
    "\n",
    "Here $\\mathbf{w}$ are the *coefficients* of the polynomial&ndash;the tweaking of which makes the function _adaptive_&ndash;and $M$ is its *degree* (a non-negative integer). We want to find the values of $\\mathbf{w}$ and $M$ that gives us the \n",
    "> **best predictions for new, previously unseen values of $x$**."
   ]
  },
  {
   "cell_type": "markdown",
   "metadata": {
    "hidden": true
   },
   "source": [
    "There are two things we can tweak in our models, i.e., two _parameters_: $\\mathbf{w}$ and $M$. "
   ]
  },
  {
   "cell_type": "markdown",
   "metadata": {
    "hidden": true
   },
   "source": [
    "> But what do we mean by \"best\"?"
   ]
  },
  {
   "cell_type": "markdown",
   "metadata": {
    "hidden": true
   },
   "source": [
    "Let's think about that by first trying to fit the training data using a fixed value of the degree $M$. "
   ]
  },
  {
   "cell_type": "markdown",
   "metadata": {
    "heading_collapsed": true,
    "hidden": true
   },
   "source": [
    "## A naive approach: trial and error"
   ]
  },
  {
   "cell_type": "markdown",
   "metadata": {
    "hidden": true
   },
   "source": [
    "Say we decide that we want to use a third degree polynomial (a cubic) to model the data. One approach to find the best approximation is to try out a bunch of values for the coefficient of our model and see which one fits the data best (for some definition of \"best\". For now, we'll use visual inspection). "
   ]
  },
  {
   "cell_type": "code",
   "execution_count": null,
   "metadata": {
    "hidden": true
   },
   "outputs": [],
   "source": [
    "# Here's a function for constructing cubic polynomials:\n",
    "\n",
    "def cubic(w0, w1, w2, w3):\n",
    "    return lambda x: w0 + w1*x + w2*x**2 + w3*x**3"
   ]
  },
  {
   "cell_type": "code",
   "execution_count": null,
   "metadata": {
    "hidden": true
   },
   "outputs": [],
   "source": [
    "from ipywidgets import interact"
   ]
  },
  {
   "cell_type": "markdown",
   "metadata": {
    "hidden": true
   },
   "source": [
    "We can use some sliders to change the coefficient of the polynomial to try to find the best fit:"
   ]
  },
  {
   "cell_type": "code",
   "execution_count": null,
   "metadata": {
    "hidden": true
   },
   "outputs": [],
   "source": [
    "@interact(w0=0.0, w1=10, w2=-25, w3=15)\n",
    "def plot_cubic(w0, w1, w2, w3):\n",
    "\n",
    "    # Plot the generated noisy data\n",
    "    N_train = 100\n",
    "    sigma=0.2\n",
    "    X_train, y_train = generate_data(N=N_train, sigma=sigma)\n",
    "\n",
    "    plt.figure(figsize=(8,6))\n",
    "    plt.scatter(X_train, y_train, label=\"Data\", s=10)\n",
    "\n",
    "\n",
    "    # Plot the cubic approximation\n",
    "    plt.plot(X_exact, cubic(w0, w1, w2, w3)(X_exact), \"r\",\n",
    "                label=\"Cubic Approximation\")\n",
    "\n",
    "\n",
    "    # Set limits, add axis labels and title\n",
    "    plt.ylim(-2, 2)\n",
    "    plt.xlabel(\"X\")\n",
    "    plt.ylabel(\"y\")\n",
    "    plt.title(\"Cubic Approximation of Noisy Data\")\n",
    "\n",
    "    # Add legend\n",
    "    plt.legend()"
   ]
  },
  {
   "cell_type": "markdown",
   "metadata": {
    "hidden": true
   },
   "source": [
    "After some experimentation, you may be able to find a model that's reasonable. However, this is, of course, not a very useful approach to solving the problem! We need a way to automatically find a good model. This is where machine learning comes in. But first, we need a way to measure the error of a model. "
   ]
  },
  {
   "cell_type": "markdown",
   "metadata": {
    "hidden": true
   },
   "source": [
    "<details>\n",
    "    <summary>Click <font color=\"red\"><b>here</b></font> to see the coefficients for the optimal cubic polynomial</summary>\n",
    "  \n",
    "  $w_0=0, w_1=10, w_2=-30, w_3=20$ \n",
    "</details>\n"
   ]
  },
  {
   "cell_type": "markdown",
   "metadata": {
    "heading_collapsed": true,
    "hidden": true
   },
   "source": [
    "## Measuring the error"
   ]
  },
  {
   "cell_type": "markdown",
   "metadata": {
    "hidden": true
   },
   "source": [
    "We can measure how well a polynomial fits the training data by measuring the **approximation error**. If the error is low, the fit is good. If the error is high, the fit is bad.\n",
    "\n",
    "A convenient error function for regression problems is the **sum of squared errors** between the predictions $P(x_n, \\mathbf{w})$ for each data point $x_n$ and the corresponding output values $t_n$:\n",
    "\n",
    "$$E(\\mathbf{w}) = \\sum_{n=1}^N \\big(P(x_n, \\mathbf{w}) - t_n \\big)^2$$"
   ]
  },
  {
   "cell_type": "markdown",
   "metadata": {
    "hidden": true
   },
   "source": [
    "Notice that $E=0$ exactly when the polynomial passes through *all* the training data points $(x_n , t_n)$. The error is zero when the approximation is perfect. \n",
    "\n",
    "Error functions are sometimes also called **cost functions** or **loss functions**. They compute the *cost* of using the current parameters of the model (the weights, in our case). "
   ]
  },
  {
   "cell_type": "markdown",
   "metadata": {
    "hidden": true
   },
   "source": [
    "Here's the same function in code:"
   ]
  },
  {
   "cell_type": "code",
   "execution_count": null,
   "metadata": {
    "hidden": true
   },
   "outputs": [],
   "source": [
    "def error(P, x, t):\n",
    "    \"\"\"\n",
    "    Computes the sum of squared errors when using y to \n",
    "    approximate the true values t at the points x\n",
    "    \"\"\"\n",
    "    \n",
    "    return np.sum( (P(x) - t)**2 )"
   ]
  },
  {
   "cell_type": "markdown",
   "metadata": {
    "hidden": true
   },
   "source": [
    "We can modify the above interactive plot so that it displays the error as we try out values for the coefficients:"
   ]
  },
  {
   "cell_type": "code",
   "execution_count": null,
   "metadata": {
    "hidden": true
   },
   "outputs": [],
   "source": [
    "@interact(w0=0.0, w1=10, w2=-25, w3=15)\n",
    "def plot_cubic(w0, w1, w2, w3):\n",
    "\n",
    "    # Plot the generated noisy data\n",
    "    N_train = 20\n",
    "    sigma=0.2\n",
    "    X_train, y_train = generate_data(N=N_train, sigma=sigma)\n",
    "\n",
    "    plt.figure(figsize=(8,6))\n",
    "    plt.scatter(X_train, y_train, label=\"Data\", s=10)\n",
    "\n",
    "\n",
    "    # Plot the cubic approximation\n",
    "    plt.plot(X_exact, cubic(w0, w1, w2, w3)(X_exact), \"r\",\n",
    "                label=\"Cubic Approximation\")\n",
    "\n",
    "\n",
    "    # Add error lines\n",
    "    for x, y_true in zip(X_train, y_train):\n",
    "        y_pred = cubic(w0, w1, w2, w3)(x)\n",
    "        plt.plot([x, x], [y_true, y_pred], \"k--\")\n",
    "\n",
    "\n",
    "    # Set limits, add axis labels and title\n",
    "    plt.ylim(-2, 2)\n",
    "    plt.xlabel(\"X\")\n",
    "    plt.ylabel(\"y\")\n",
    "    # Display the error as the plot title\n",
    "    plt.title(f\"Error: {error(cubic(w0, w1, w2, w3), X_train, y_train):.3f}\")\n",
    "\n",
    "    # Add legend\n",
    "    plt.legend()"
   ]
  },
  {
   "cell_type": "markdown",
   "metadata": {
    "hidden": true
   },
   "source": [
    "But, in this case there's a way to automatically find the coefficients that minimizes the error! **Calculus**!"
   ]
  },
  {
   "cell_type": "markdown",
   "metadata": {
    "hidden": true
   },
   "source": [
    "By setting the derivative of $E$ to zero, trying to find the values of $\\mathbf{w}$ that minimize $E$ (a strategy you remember from calculus), it turns out that it's possible to precisely determine the values of $\\mathbf{w}$ that minimize the error. If you're curious about the details, have a look [here]() for a sketch of how it's done."
   ]
  },
  {
   "cell_type": "markdown",
   "metadata": {
    "hidden": true
   },
   "source": [
    "> Later, we'll learn about techniques that can be used to try to find the minimum error in cases where it cannot, in practice, be computed exactly. Which is most of the time. Such techniques are called **optimization algorithms**. Spoiler: one of them is what's called **gradient descent**."
   ]
  },
  {
   "cell_type": "markdown",
   "metadata": {
    "hidden": true
   },
   "source": [
    "Here are some plots of polynomials of varying degree $M$ that all minimize $E$:"
   ]
  },
  {
   "cell_type": "code",
   "execution_count": null,
   "metadata": {
    "hidden": true
   },
   "outputs": [],
   "source": [
    "def plot_poly_approx(degree, title=\"\"):\n",
    "\n",
    "    #X values used to plot the polynomial:\n",
    "    x_poly = np.linspace(0,1,100)\n",
    "    # Corresponding values of the polynomial:\n",
    "    y_poly = P(x_poly)\n",
    "    \n",
    "    fig, ax = plt.subplots(figsize=(8,6))\n",
    "    \n",
    "    ax.plot(X_exact, f(X_exact), 'g', label='Exact values')\n",
    "    ax.plot(X_train, y_train, 'bo', label=\"Training data\")\n",
    "    ax.plot(x_poly, y_poly, 'r', label=\"Polynomial\")\n",
    "    \n",
    "    ax.legend()\n",
    "    \n",
    "    plt.ylim(-1.5, 1.5)\n",
    "    plt.title(title)\n",
    "    plt.show()\n",
    "    return ax"
   ]
  },
  {
   "cell_type": "code",
   "execution_count": null,
   "metadata": {
    "hidden": true
   },
   "outputs": [],
   "source": [
    "degrees = [0, 1, 3, 9, 20]\n",
    "\n",
    "for M in degrees:\n",
    "    P = np.poly1d(np.polyfit(X_train, y_train, deg=M)) \n",
    "    print(P)\n",
    "    # The above functions minimize the error E for us\n",
    "    plot_poly_approx(M, title=f\"Degree {M} polynomial\")"
   ]
  },
  {
   "cell_type": "markdown",
   "metadata": {
    "heading_collapsed": true,
    "hidden": true
   },
   "source": [
    "## Which of these models should we use?"
   ]
  },
  {
   "cell_type": "markdown",
   "metadata": {
    "hidden": true
   },
   "source": [
    "We notice that the order of the polynomial makes a huge difference! \n",
    "\n",
    "So which model do we choose? Which one's \"best\"? \n",
    "\n",
    "For sure, $M=0$ and $M=1$ seems like bad models: they're too far from the training data points. On the other hand, $M=9$ gives us an excellent fit to the training data, with very low error. But we have the luxury of having access to the true, exact function, and it's obvious that $M=9$ results in a horrible model for $\\sin(2*pi*x)$..."
   ]
  },
  {
   "cell_type": "markdown",
   "metadata": {
    "hidden": true
   },
   "source": [
    "What's happening to the high-degree polynomials like $M=9$ is what's called **overfitting**, a fundamental concept in machine learning. The model *tries too hard* to fit the training data and ends up being a bad fit to the true solution. \n",
    "\n",
    "> Think of overfitting as memorizing facts for an exam without understanding them. You'll do great if asked the exact facts, but if you encounter a slightly different question, you'll likely answer incorrectly.\n",
    "\n",
    "Imagine we're given a new data point $x$ that's not from the training data. The model with $M=9$ will likely provide a foolish prediction for the corresponding value of $t$. It's bad at **generalization**. And generalization ability is exactly what we're after: we want models that can give good predictions of $t$ for new, previously unseen values of $x$. We want them to perform well on data they've never seen before!\n",
    "\n",
    "> Generalization is the real power of a machine learning model. It's not just about fitting to the data we have, but predicting accurately on new, unseen data."
   ]
  },
  {
   "cell_type": "markdown",
   "metadata": {
    "hidden": true
   },
   "source": [
    "$M=3$ seems to hit a sweet spot in our case. "
   ]
  },
  {
   "cell_type": "markdown",
   "metadata": {
    "hidden": true
   },
   "source": [
    "> How can we make these observations more precise?\n",
    "\n",
    "> How can we find good models when we don't have access to the true solution (which in practice is always)?"
   ]
  },
  {
   "cell_type": "markdown",
   "metadata": {
    "hidden": true
   },
   "source": [
    "Soon, we'll see some tools that help us automatically select the best model, without the need for the 'true' function."
   ]
  },
  {
   "cell_type": "markdown",
   "metadata": {
    "heading_collapsed": true,
    "hidden": true
   },
   "source": [
    "## How to measure model performance and find the best model?"
   ]
  },
  {
   "cell_type": "markdown",
   "metadata": {
    "hidden": true
   },
   "source": [
    "One of the main ideas in machine learning&ndash;and the way we'll tackle these problems&ndash; is to use \n",
    "> **train, validation, and test sets**"
   ]
  },
  {
   "cell_type": "markdown",
   "metadata": {
    "hidden": true
   },
   "source": [
    "Recall (again) that our goal is to create a model that can produce accurate predictions for previously unseen data points. To estimate model performance, we set aside some of our data points as a **test set** and disregard them during the training of the model. \n",
    "\n",
    "The test set can then be used to *simulate* what will happen when new points are put into the trained model and to quantify its performance. "
   ]
  },
  {
   "cell_type": "markdown",
   "metadata": {
    "hidden": true
   },
   "source": [
    "One standard way to do this is to set aside approximately 20% of the data we've been given for testing and use the remainder for training (using, for example, scikit-learn's `train_test_split` function)."
   ]
  },
  {
   "cell_type": "markdown",
   "metadata": {
    "hidden": true
   },
   "source": [
    "In our situation, we can easily produce new data since we know the data generating function, and we can leave the $N$ points we already have for training the models. However, note that in practice, this is not typically how it's done since you cannot easily collect more data. You have to use what you've got."
   ]
  },
  {
   "cell_type": "code",
   "execution_count": null,
   "metadata": {
    "hidden": true
   },
   "outputs": [],
   "source": [
    "# Test data\n",
    "N_test = 100\n",
    "X_test, y_test = generate_data(N_test, sigma, seed=0)"
   ]
  },
  {
   "cell_type": "markdown",
   "metadata": {
    "hidden": true
   },
   "source": [
    "Here's the training and test data:"
   ]
  },
  {
   "cell_type": "code",
   "execution_count": null,
   "metadata": {
    "hidden": true
   },
   "outputs": [],
   "source": [
    "fig = plt.figure(figsize=(8,6))\n",
    "ax = fig.add_subplot(111)\n",
    "ax.plot(X_exact, f(X_exact), 'g', linewidth=2, \n",
    "        label='Exact values')\n",
    "ax.plot(X_train, y_train, 'bo', markersize=10, fillstyle='none', \n",
    "        label='Training data')\n",
    "ax.plot(X_test,y_test, 'rx', markersize=10, fillstyle='none', \n",
    "        label='Test data')\n",
    "ax.legend()\n",
    "plt.title('Training and Test Data')\n",
    "plt.show()"
   ]
  },
  {
   "cell_type": "markdown",
   "metadata": {
    "hidden": true
   },
   "source": [
    "Now we can plot how the polynomials perform in terms of the error function E as we increase the degree from 0 to 9. "
   ]
  },
  {
   "cell_type": "markdown",
   "metadata": {
    "hidden": true
   },
   "source": [
    "It's convenient (and standard) to change the error function slightly and use the **root mean square** error function:"
   ]
  },
  {
   "cell_type": "markdown",
   "metadata": {
    "hidden": true
   },
   "source": [
    "$$\\displaystyle{RMS(\\mathbf{w}) = \\sqrt{E(\\mathbf{w})/N}}$$"
   ]
  },
  {
   "cell_type": "markdown",
   "metadata": {
    "hidden": true
   },
   "source": [
    "(It has the advantage of dividing being on the same scale as the target variable $t$ (because of the square root). The division by $N$ lets us compare the error on data sets of different sizes.)"
   ]
  },
  {
   "cell_type": "markdown",
   "metadata": {
    "hidden": true
   },
   "source": [
    "In code:"
   ]
  },
  {
   "cell_type": "code",
   "execution_count": null,
   "metadata": {
    "hidden": true
   },
   "outputs": [],
   "source": [
    "def rmserror(P, x, t):\n",
    "    \"\"\"\n",
    "    Returns the root mean square error \n",
    "    \"\"\"\n",
    "    err = error(P,x,t)\n",
    "    \n",
    "    return np.sqrt(err/len(x))"
   ]
  },
  {
   "cell_type": "code",
   "execution_count": null,
   "metadata": {
    "hidden": true
   },
   "outputs": [],
   "source": [
    "trainerrors = []\n",
    "testerrors = []\n",
    "degrees = range(0,15)\n",
    "for deg in degrees:\n",
    "    P = np.poly1d(np.polyfit(X_train, y_train, deg=deg))\n",
    "    trainerrors.append(rmserror(P, X_train, y_train))\n",
    "    testerrors.append(rmserror(P, X_test, y_test))\n",
    "    \n",
    "fig, ax = plt.subplots(figsize=(8,6))\n",
    "ax.plot(degrees, testerrors, '-ro', label=\"Test error\")\n",
    "ax.plot(degrees, trainerrors, '-bo', label=\"Train error\")\n",
    "plt.ylim(0,2)\n",
    "ax.legend(loc='best')\n",
    "plt.xlabel(\"Degree of Polynomial\")\n",
    "plt.ylabel(\"RMS Error\")\n",
    "plt.title(\"Training and Test Error for Different Polynomial Degrees\")\n",
    "plt.show()\n"
   ]
  },
  {
   "cell_type": "markdown",
   "metadata": {
    "hidden": true
   },
   "source": [
    "Now we can see what's happening. The models with low $M$ aren't able to capture the function $\\sin(2\\pi x)$ and have a relatively high error on the test set. The models with high $M$ have extremely low training error (as low as 0 for the polynomial of degree 9, which is able to capture the training data perfectly) but high test error.\n",
    "\n",
    "The models in-between, say in the range $3 \\leq M \\leq 5$, give reasonable approximations to the training data *and* have relatively low test error. They're in the sweet spot, neither underfitting nor overfitting, having good generalization capabilities. "
   ]
  },
  {
   "cell_type": "markdown",
   "metadata": {
    "hidden": true
   },
   "source": [
    "We've used a data set not used directly in training to find suitable values for the degree of the polynomial. The degree is a **hyperparameter** of our models: a parameter we can use to control our model that is not set by the learning algorithm itself, but they influence model performance. We often use the validation set to fine-tune them."
   ]
  },
  {
   "cell_type": "markdown",
   "metadata": {
    "heading_collapsed": true,
    "hidden": true
   },
   "source": [
    "## The impact of data size"
   ]
  },
  {
   "cell_type": "markdown",
   "metadata": {
    "hidden": true
   },
   "source": [
    "An important side-note is that whether a model will overfit a training data set is typically very much dependent on the size of the data set! \n",
    "\n",
    "Typically, small datasets increase the risk of overfitting, especially with complex models. As the data size grows, this risk diminishes.\n",
    "\n",
    "Let's give it a try:"
   ]
  },
  {
   "cell_type": "code",
   "execution_count": null,
   "metadata": {
    "hidden": true
   },
   "outputs": [],
   "source": [
    "# Size of data set\n",
    "N_train = 100\n",
    "# Degree of polynomial\n",
    "M = 9"
   ]
  },
  {
   "cell_type": "code",
   "execution_count": null,
   "metadata": {
    "hidden": true
   },
   "outputs": [],
   "source": [
    "# Generate training data as before\n",
    "X_train, y_train = generate_data(N_train, 0.3)\n",
    "\n",
    "# Polynomial approximation\n",
    "P = np.poly1d(np.polyfit(X_train, y_train, deg=M))\n",
    "\n",
    "# Plot the data and the polynomial approximation\n",
    "_ = plot_poly_approx(M)"
   ]
  },
  {
   "cell_type": "markdown",
   "metadata": {
    "hidden": true
   },
   "source": [
    "Now the complex model gives a good approximation. Both visually, and in terms of the error:"
   ]
  },
  {
   "cell_type": "code",
   "execution_count": null,
   "metadata": {
    "hidden": true
   },
   "outputs": [],
   "source": [
    "rmserror(P, X_test, y_test)"
   ]
  },
  {
   "cell_type": "markdown",
   "metadata": {
    "hidden": true
   },
   "source": [
    "You can play around with the effect of choosing various N's and M's below:"
   ]
  },
  {
   "cell_type": "code",
   "execution_count": null,
   "metadata": {
    "hidden": true
   },
   "outputs": [],
   "source": [
    "def get_rmserror(N_train, M=9):\n",
    "    X_train, y_train = generate_data(N_train, 0.3)\n",
    "    P = np.poly1d(np.polyfit(X_train, y_train, deg=M))\n",
    "    return rmserror(P, X_test, y_test)"
   ]
  },
  {
   "cell_type": "code",
   "execution_count": null,
   "metadata": {
    "hidden": true
   },
   "outputs": [],
   "source": [
    "from ipywidgets import interact, interactive"
   ]
  },
  {
   "cell_type": "code",
   "execution_count": null,
   "metadata": {
    "hidden": true
   },
   "outputs": [],
   "source": [
    "_ = interact(get_rmserror, N_train=(10,100), M=(0,15))"
   ]
  },
  {
   "cell_type": "markdown",
   "metadata": {
    "hidden": true
   },
   "source": [
    "Here's a visualization of the effect of choosing different values for N and M:"
   ]
  },
  {
   "cell_type": "code",
   "execution_count": null,
   "metadata": {
    "hidden": true
   },
   "outputs": [],
   "source": [
    "def generate_plot_poly_approx(N, M):\n",
    "    \"\"\"\n",
    "    Generates a plot of a polynomial approximation of noisy data.\n",
    "\n",
    "    Parameters:\n",
    "    N (int): The number of data points to generate.\n",
    "    M (int): The degree of the polynomial to use for the approximation.\n",
    "\n",
    "    Returns:\n",
    "    None\n",
    "    \"\"\"\n",
    "    plt.figure(2)\n",
    "    X, y = generate_data(N, 0.3)\n",
    "    P = np.poly1d(np.polyfit(X, y, deg=M))\n",
    "    #X values used to plot the polynomial:\n",
    "    X_poly = np.linspace(0,1,100)\n",
    "    # Corresponding values of the polynomial:\n",
    "    y_poly = P(X_poly)\n",
    "    \n",
    "    fig, ax = plt.subplots(figsize=(10,8))\n",
    "    \n",
    "    ax.plot(X_exact, f(X_exact), 'g', label='Exact values')\n",
    "    ax.scatter(X, y, s=20, c='b', label=\"Training data\")\n",
    "    ax.plot(X_poly, y_poly, 'r', '--', label=\"Polynomial approximation\")\n",
    "    \n",
    "    ax.legend()\n",
    "    \n",
    "    plt.ylim(-1.5, 1.5)\n",
    "    plt.xlabel('X')\n",
    "    plt.ylabel('y')\n",
    "    plt.title(f\"Polynomial approximation of noisy data (N={N}, M={M})\")\n",
    "    plt.show()"
   ]
  },
  {
   "cell_type": "markdown",
   "metadata": {
    "hidden": true
   },
   "source": [
    "Let's make it interactive:"
   ]
  },
  {
   "cell_type": "code",
   "execution_count": null,
   "metadata": {
    "hidden": true
   },
   "outputs": [],
   "source": [
    "interactive_plot = interactive(generate_plot_poly_approx, N=(10, 100), M=(0, 15))\n",
    "output = interactive_plot.children[-1]\n",
    "output.layout.height = '550px'\n",
    "interactive_plot"
   ]
  },
  {
   "cell_type": "markdown",
   "metadata": {
    "hidden": true
   },
   "source": [
    "Too little data with a high-degree polynomial? You'll overfit. Lots of data with a simple model? You might underfit."
   ]
  },
  {
   "cell_type": "markdown",
   "metadata": {
    "heading_collapsed": true,
    "hidden": true
   },
   "source": [
    "## So, how do we choose M?"
   ]
  },
  {
   "cell_type": "markdown",
   "metadata": {
    "hidden": true
   },
   "source": [
    "You might think, \"Just pick the model with the lowest test error!\" But wait. "
   ]
  },
  {
   "cell_type": "markdown",
   "metadata": {
    "hidden": true
   },
   "source": [
    "> **That's not a good plan!** "
   ]
  },
  {
   "cell_type": "markdown",
   "metadata": {
    "hidden": true
   },
   "source": [
    "Why? Because by using the test set to tune the parameter $M$ then information from the test set leaks into the model construction process! The test set is to be kept totally separate and only used to test the final model. Otherwise, *it wouldn't provide a good simulation of the situation we're really interested in!* Which is when new, previously unseen points appear that we're supposed to make predictions for. It could happen that, by chance, a certain value of $M$ is particularly good for the test set we happen to have but very bad for new data points. That would be a model that fails to generalize well.\n",
    "\n",
    "This is super important and worth repeating:\n",
    "> **In machine learning, you keep your hands off the test set during model construction!**\n",
    "\n",
    "If you're not careful, you may end up *overfitting to the test set*. Then what do you do to estimate the model's performance? If the model fit the test set really well because we tuned it that way, there's no way of knowing how good it will be once we put it in production. "
   ]
  },
  {
   "cell_type": "markdown",
   "metadata": {
    "hidden": true
   },
   "source": [
    "So, what do we do? We divide the training set into *three* parts. \n",
    "\n",
    "- A **training set** used to create the model\n",
    "- A **validation set** used to tune the parameters of the model (model selection)\n",
    "- A **test set** to test the final model. The performance of the model on the test set is used as an estimate of its \"true\" performance. "
   ]
  },
  {
   "cell_type": "markdown",
   "metadata": {
    "hidden": true
   },
   "source": [
    "We'll make this split all the time throughout the course, primarily using the `train_test_split` function of scikit-learn."
   ]
  },
  {
   "cell_type": "markdown",
   "metadata": {
    "hidden": true
   },
   "source": [
    "Again, in our special case where we know the data generating function precisely, it's easy to generate *new* data for validation and test:"
   ]
  },
  {
   "cell_type": "code",
   "execution_count": null,
   "metadata": {
    "hidden": true
   },
   "outputs": [],
   "source": [
    "# Training data\n",
    "N_train = 70\n",
    "X_train, y_train = generate_data(N_train, sigma)"
   ]
  },
  {
   "cell_type": "code",
   "execution_count": null,
   "metadata": {
    "hidden": true
   },
   "outputs": [],
   "source": [
    "# Validation data\n",
    "N_val = 20\n",
    "X_val, y_val = generate_data(N_val, sigma, seed=0)"
   ]
  },
  {
   "cell_type": "code",
   "execution_count": null,
   "metadata": {
    "hidden": true
   },
   "outputs": [],
   "source": [
    "# Test data\n",
    "N_test = 10\n",
    "X_test, y_test = generate_data(N_test, sigma, seed=1)"
   ]
  },
  {
   "cell_type": "code",
   "execution_count": null,
   "metadata": {
    "hidden": true
   },
   "outputs": [],
   "source": [
    "fig = plt.figure(figsize=(8,6))\n",
    "ax = fig.add_subplot(111)\n",
    "ax.plot(X_exact, f(X_exact), 'g', linewidth=2, label='Exact values')\n",
    "ax.plot(X_train,y_train, 'bo', markersize=10, fillstyle='none', label='Training data')\n",
    "ax.plot(X_val,y_val, 'gx', markersize=10, fillstyle='none', label='Validation data')\n",
    "ax.plot(X_test,y_test, 'rx', markersize=10, fillstyle='none', label='Test data')\n",
    "ax.legend()\n",
    "plt.show()"
   ]
  },
  {
   "cell_type": "markdown",
   "metadata": {
    "hidden": true
   },
   "source": [
    "And now, let's find the best model:"
   ]
  },
  {
   "cell_type": "code",
   "execution_count": null,
   "metadata": {
    "hidden": true
   },
   "outputs": [],
   "source": [
    "trainerrors = []\n",
    "testerrors = []\n",
    "degrees = range(0,10)\n",
    "for deg in degrees:\n",
    "    P = np.poly1d(np.polyfit(X_train, y_train, deg=deg))\n",
    "    trainerrors.append(rmserror(P, X_train, y_train))\n",
    "    testerrors.append(rmserror(P, X_val, y_val))\n",
    "    \n",
    "fig, ax = plt.subplots(figsize=(8,6))\n",
    "ax.plot(degrees, testerrors, '-ro', label=\"Validation error\")\n",
    "ax.plot(degrees, trainerrors, '-bo', label=\"Train error\")\n",
    "plt.xlabel(\"Degree of Polynomial\")\n",
    "plt.ylabel(\"RMS Error\")\n",
    "plt.title(\"Training and Validation Error for Different Polynomial Degrees\")\n",
    "ax.legend(loc='best')\n",
    "plt.show()"
   ]
  },
  {
   "cell_type": "markdown",
   "metadata": {
    "hidden": true
   },
   "source": [
    "$M=3$ seems like a good choice. "
   ]
  },
  {
   "cell_type": "code",
   "execution_count": null,
   "metadata": {
    "hidden": true
   },
   "outputs": [],
   "source": [
    "our_model = np.poly1d(np.polyfit(X_train, y_train, deg=3))"
   ]
  },
  {
   "cell_type": "markdown",
   "metadata": {
    "hidden": true
   },
   "source": [
    "Test error:"
   ]
  },
  {
   "cell_type": "code",
   "execution_count": null,
   "metadata": {
    "hidden": true
   },
   "outputs": [],
   "source": [
    "rmserror(our_model, X_test, y_test)"
   ]
  },
  {
   "cell_type": "markdown",
   "metadata": {
    "hidden": true
   },
   "source": [
    "Pretty good. Let's plot the result:"
   ]
  },
  {
   "cell_type": "code",
   "execution_count": null,
   "metadata": {
    "hidden": true
   },
   "outputs": [],
   "source": [
    "plot_poly_approx(5)\n",
    "plt.show()"
   ]
  },
  {
   "cell_type": "markdown",
   "metadata": {
    "heading_collapsed": true,
    "hidden": true
   },
   "source": [
    "### Why Can't Models Decide Their Complexity?"
   ]
  },
  {
   "cell_type": "markdown",
   "metadata": {
    "hidden": true
   },
   "source": [
    "> Why can't complex models figure out that they're being *too complex* themselves? Why do *we* have to do it?"
   ]
  },
  {
   "cell_type": "markdown",
   "metadata": {
    "hidden": true
   },
   "source": [
    "One of our goals in machine learning is after all to get the computers to do as much of the work as possible. That should include giving us the best models for the job. \n",
    "\n",
    "Ideally, we'd want models to determine the best level of complexity themselves. Fortunately, there's a mechanism for this – regularization. More on that in the next section!"
   ]
  },
  {
   "cell_type": "markdown",
   "metadata": {
    "heading_collapsed": true,
    "hidden": true
   },
   "source": [
    "## Regularization"
   ]
  },
  {
   "cell_type": "markdown",
   "metadata": {
    "hidden": true
   },
   "source": [
    "Overfitting can cause our model to capture the noise in the training data rather than the underlying distribution. Let's revisit the overfitting polynomial to see this in action:"
   ]
  },
  {
   "cell_type": "code",
   "execution_count": null,
   "metadata": {
    "hidden": true
   },
   "outputs": [],
   "source": [
    "N_train = 10\n",
    "sigma=0.2\n",
    "X_train, y_train = generate_data(N=N_train, sigma=sigma)\n",
    "\n",
    "P = np.poly1d(np.polyfit(X_train, y_train, deg=M))\n",
    "plot_poly_approx(M)\n",
    "plt.show()"
   ]
  },
  {
   "cell_type": "markdown",
   "metadata": {
    "hidden": true
   },
   "source": [
    "We can have a closer look at the 10 coefficients of P\n",
    "\n",
    "$$w_0 + w_1 x + w_2 x^2 + \\cdots + w_9 x^9$$"
   ]
  },
  {
   "cell_type": "code",
   "execution_count": null,
   "metadata": {
    "hidden": true
   },
   "outputs": [],
   "source": [
    "P.coefficients"
   ]
  },
  {
   "cell_type": "markdown",
   "metadata": {
    "hidden": true
   },
   "source": [
    "They're huge! These coefficients have been precisely calibrated to fit the training data, which results in high oscillations between data points and reduced generalization capabilities."
   ]
  },
  {
   "cell_type": "markdown",
   "metadata": {
    "hidden": true
   },
   "source": [
    "Remember that the error function minimized to determine these coefficients is:\n",
    "\n",
    "$$E(\\mathbf{w}) = \\sum_{n=1}^N \\big(y(x_n, \\mathbf{w}) - t_n \\big)^2$$"
   ]
  },
  {
   "cell_type": "markdown",
   "metadata": {
    "hidden": true
   },
   "source": [
    "To curb overfitting, let's add a _penalty term_ that promotes smaller coefficient values:"
   ]
  },
  {
   "cell_type": "markdown",
   "metadata": {
    "hidden": true
   },
   "source": [
    "$$\\tilde{E}(\\mathbf{w}) = \\sum_{n=1}^N \\big(y(x_n, \\mathbf{w}) - t_n \\big)^2 + \\lambda |\\mathbf{w}|^2$$"
   ]
  },
  {
   "cell_type": "markdown",
   "metadata": {
    "hidden": true
   },
   "source": [
    "Remember that we're trying to minimize the error. Using the above expression this will automatically also try to minimize the size $|\\mathbf{w}| = w_0^2 + \\cdots + w_N^2$ of the coefficients. "
   ]
  },
  {
   "cell_type": "markdown",
   "metadata": {
    "hidden": true
   },
   "source": [
    "This is an example of what's called **regularization** and is used throughout machine learning. In general, regularization is a way to put preferences into our models in such a way that the generalization error is reduced, but not the error on the training set.\n",
    "\n",
    "The parameter $\\lambda$ balances the model's fit to the data against the magnitude of the polynomial's coefficients."
   ]
  },
  {
   "cell_type": "markdown",
   "metadata": {
    "hidden": true
   },
   "source": [
    "Using regularization, let's see if we can fit a degree 9 polynomial to our training data. \n",
    "\n",
    "Let's employ regularization using `scikit-learn`:"
   ]
  },
  {
   "cell_type": "code",
   "execution_count": null,
   "metadata": {
    "hidden": true
   },
   "outputs": [],
   "source": [
    "from sklearn.linear_model import Ridge\n",
    "from sklearn.preprocessing import PolynomialFeatures\n",
    "from sklearn.pipeline import make_pipeline\n",
    "\n",
    "# Data\n",
    "X_exact = np.arange(0.0, 1.0, 0.01)\n",
    "y_exact = f(X_exact)\n",
    "\n",
    "# Trick to make scikit-learn happy\n",
    "X_train_array = X_train[:, np.newaxis]\n",
    "y_train_array = y_train[:, np.newaxis]\n",
    "X_exact_array = X_exact[:, np.newaxis]\n",
    "y_exact_array = y_exact[:, np.newaxis]\n",
    "\n",
    "# Plot of exact function and our training data\n",
    "fig, ax = plt.subplots(figsize=(10,6))\n",
    "plt.plot(X_exact, y_exact, color='green', linewidth=2,\n",
    "         label=\"Exact values\")\n",
    "plt.scatter(X_train, y_train, color='navy', s=30, marker='o', label=\"Training data\")\n",
    "\n",
    "# Polynomial approximation without regularization\n",
    "degree=9\n",
    "P = np.poly1d(np.polyfit(X_train, y_train, deg=degree))\n",
    "\n",
    "# Polynomial approximation with regularization (using scikit-learn)\n",
    "alpha = 0.001 \n",
    "# alpha is the amount of regularization. \n",
    "# It's proportional to 1/lambda in the formula above\n",
    "\n",
    "model = make_pipeline(PolynomialFeatures(degree), Ridge(alpha=alpha))\n",
    "model.fit(X_train_array, y_train_array)\n",
    "y_pred_regr = model.predict(X_exact_array)\n",
    "\n",
    "# Plot of the resulting polynomials\n",
    "ax.plot(X_exact, y_pred_regr, color='blue', linewidth=2,\n",
    "             label=\"With regularization\")\n",
    "ax.plot(X_exact, P(X_exact), color='red', linewidth=2,\n",
    "             label=\"No regularization\")\n",
    "\n",
    "# Add axis labels and title\n",
    "plt.xlabel('X')\n",
    "plt.ylabel('y')\n",
    "plt.title(f\"Polynomial approximation with and without regularization (degree={degree}, alpha={alpha})\")\n",
    "\n",
    "# Add legend\n",
    "ax.legend()\n",
    "\n",
    "plt.ylim(-2.5, 2.5)\n",
    "\n",
    "plt.show()"
   ]
  },
  {
   "cell_type": "markdown",
   "metadata": {
    "hidden": true
   },
   "source": [
    "> **Your turn!:** \n",
    "- Adjust the regularization strength with different values for `alpha`. Try `alpha = 0`. What happens? Why? Then try `alpha = 0.1`. \n",
    "- Make a plot where the x-axis is the amount of regularization and the y-axis is the `rmserror`, showing both the training set and the test set error for the degree 9 polynomial above."
   ]
  },
  {
   "cell_type": "markdown",
   "metadata": {
    "hidden": true
   },
   "source": [
    "Regularization helps combat overfitting! \n",
    "\n",
    "This is evident from the considerably smaller coefficients:"
   ]
  },
  {
   "cell_type": "code",
   "execution_count": null,
   "metadata": {
    "hidden": true
   },
   "outputs": [],
   "source": [
    "model.named_steps.ridge.coef_"
   ]
  },
  {
   "cell_type": "markdown",
   "metadata": {
    "hidden": true
   },
   "source": [
    "For comparison:"
   ]
  },
  {
   "cell_type": "code",
   "execution_count": null,
   "metadata": {
    "hidden": true
   },
   "outputs": [],
   "source": [
    "P.coef"
   ]
  },
  {
   "cell_type": "markdown",
   "metadata": {
    "hidden": true
   },
   "source": [
    "**How do we select the best regularization parameter in practice?**\n",
    "\n",
    "> Using the validation set! Never use the test set to select *any* of the parameters of your model!"
   ]
  },
  {
   "cell_type": "markdown",
   "metadata": {
    "heading_collapsed": true
   },
   "source": [
    "# End of crash course; more about these topics later in the DAT158."
   ]
  },
  {
   "cell_type": "code",
   "execution_count": null,
   "metadata": {
    "hidden": true
   },
   "outputs": [],
   "source": []
  }
 ],
 "metadata": {
  "kernelspec": {
   "display_name": "DAT158",
   "language": "python",
   "name": "dat158"
  },
  "language_info": {
   "codemirror_mode": {
    "name": "ipython",
    "version": 3
   },
   "file_extension": ".py",
   "mimetype": "text/x-python",
   "name": "python",
   "nbconvert_exporter": "python",
   "pygments_lexer": "ipython3",
   "version": "3.10.12"
  },
  "toc": {
   "base_numbering": 1,
   "nav_menu": {},
   "number_sections": true,
   "sideBar": true,
   "skip_h1_title": false,
   "title_cell": "Table of Contents",
   "title_sidebar": "Contents",
   "toc_cell": false,
   "toc_position": {},
   "toc_section_display": true,
   "toc_window_display": false
  },
  "widgets": {
   "application/vnd.jupyter.widget-state+json": {
    "state": {
     "0230476da0a848be9bb76fa6a5e5959c": {
      "model_module": "@jupyter-widgets/controls",
      "model_module_version": "1.5.0",
      "model_name": "IntSliderModel",
      "state": {
       "description": "M",
       "layout": "IPY_MODEL_bbe80b5596a948c1a7aa25e699ca529c",
       "max": 15,
       "style": "IPY_MODEL_3afc0104caca48b6bd767995f02a8c26",
       "value": 7
      }
     },
     "037527e6475241da854b3b6312365260": {
      "model_module": "@jupyter-widgets/base",
      "model_module_version": "1.2.0",
      "model_name": "LayoutModel",
      "state": {}
     },
     "03bae7954a524a29891d415f1a40f39d": {
      "model_module": "@jupyter-widgets/controls",
      "model_module_version": "1.5.0",
      "model_name": "SliderStyleModel",
      "state": {
       "description_width": ""
      }
     },
     "04e3f7cc7a464fa085d13049ab67930c": {
      "model_module": "@jupyter-widgets/base",
      "model_module_version": "1.2.0",
      "model_name": "LayoutModel",
      "state": {}
     },
     "07c06470a9ab488ba72b0f9784037991": {
      "model_module": "@jupyter-widgets/base",
      "model_module_version": "1.2.0",
      "model_name": "LayoutModel",
      "state": {}
     },
     "0885bd60924d413ea69565bf049f5494": {
      "model_module": "@jupyter-widgets/controls",
      "model_module_version": "1.3.0",
      "model_name": "VBoxModel",
      "state": {
       "_dom_classes": [
        "widget-interact"
       ],
       "_model_module_version": "1.3.0",
       "_view_module_version": "1.3.0",
       "children": [
        "IPY_MODEL_732608f66bb04a198c7958150da73d82",
        "IPY_MODEL_90a64b504f504ee88f93183eb9c0518d",
        "IPY_MODEL_df1d135507f3436cbbd6316cc633e57e"
       ],
       "layout": "IPY_MODEL_753f954f5b844f988b23fde6286c2718"
      }
     },
     "08e6cfaca188402b87ec49dc0ca99ad8": {
      "model_module": "@jupyter-widgets/controls",
      "model_module_version": "1.5.0",
      "model_name": "IntSliderModel",
      "state": {
       "description": "N_train",
       "layout": "IPY_MODEL_18e38276a6a048058b6238e49571dda3",
       "min": 10,
       "style": "IPY_MODEL_d883528e84004a09a2f45baf0efdc2da",
       "value": 55
      }
     },
     "0df3e66bd2cc43fc9175ded4faa00b43": {
      "model_module": "@jupyter-widgets/base",
      "model_module_version": "1.2.0",
      "model_name": "LayoutModel",
      "state": {}
     },
     "0ec87e3aab6b4a4a9af32edbc0cfe070": {
      "model_module": "@jupyter-widgets/output",
      "model_module_version": "1.0.0",
      "model_name": "OutputModel",
      "state": {
       "layout": "IPY_MODEL_dd38b7c9a4f349ff92c323dd34c2cdc5",
       "outputs": [
        {
         "data": {
          "text/plain": "<Figure size 432x288 with 0 Axes>"
         },
         "metadata": {},
         "output_type": "display_data"
        },
        {
         "data": {
          "image/png": "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\n",
          "text/plain": "<Figure size 720x576 with 1 Axes>"
         },
         "metadata": {},
         "output_type": "display_data"
        }
       ]
      }
     },
     "10cfecb3388a441299f4c1dafeebef22": {
      "model_module": "@jupyter-widgets/controls",
      "model_module_version": "1.3.0",
      "model_name": "IntSliderModel",
      "state": {
       "_model_module_version": "1.3.0",
       "_view_module_version": "1.3.0",
       "description": "N",
       "layout": "IPY_MODEL_8e36ef33610e467bbe936dca1a8d8e2d",
       "min": 10,
       "style": "IPY_MODEL_2fa0945efb76487ea8265621018dd72c",
       "value": 55
      }
     },
     "10f28d1108e74306b24cab17ef0c5c85": {
      "model_module": "@jupyter-widgets/output",
      "model_module_version": "1.0.0",
      "model_name": "OutputModel",
      "state": {
       "layout": "IPY_MODEL_c98039a8154d440e9cedbb4a80063042",
       "outputs": [
        {
         "data": {
          "text/plain": "0.28283915244995245"
         },
         "metadata": {},
         "output_type": "display_data"
        }
       ]
      }
     },
     "18e38276a6a048058b6238e49571dda3": {
      "model_module": "@jupyter-widgets/base",
      "model_module_version": "1.2.0",
      "model_name": "LayoutModel",
      "state": {}
     },
     "1a4eb9f1808944fa80788d8a7a4dc5c3": {
      "model_module": "@jupyter-widgets/base",
      "model_module_version": "1.2.0",
      "model_name": "LayoutModel",
      "state": {}
     },
     "1b0fdf45ae154379abaa30d1bd2f38d6": {
      "model_module": "@jupyter-widgets/base",
      "model_module_version": "1.2.0",
      "model_name": "LayoutModel",
      "state": {}
     },
     "1b4d9b533d6c467e9fd33f5124b81e54": {
      "model_module": "@jupyter-widgets/controls",
      "model_module_version": "1.5.0",
      "model_name": "VBoxModel",
      "state": {
       "_dom_classes": [
        "widget-interact"
       ],
       "children": [
        "IPY_MODEL_31e45416547f400988ab90d208fdcfa7",
        "IPY_MODEL_8a7ed5c7f4224a5f80f6e9078069c334",
        "IPY_MODEL_71ca8e7447f642ce9437aea8b751cad7"
       ],
       "layout": "IPY_MODEL_9246f4c39d8c499e9c42c478ae54bbef"
      }
     },
     "1bc55c107fdd49d6a6bc3f6ec93e822a": {
      "model_module": "@jupyter-widgets/controls",
      "model_module_version": "1.5.0",
      "model_name": "IntSliderModel",
      "state": {
       "description": "M",
       "layout": "IPY_MODEL_b38bc5b1c43044759db4309b9e384695",
       "max": 15,
       "style": "IPY_MODEL_5634242135e24354b186605f59d2261b",
       "value": 7
      }
     },
     "1c19700233f74afcbfd9a68cb21e5ffb": {
      "model_module": "@jupyter-widgets/base",
      "model_module_version": "1.2.0",
      "model_name": "LayoutModel",
      "state": {}
     },
     "1e16af687a9d48ecb8e18c498409d472": {
      "model_module": "@jupyter-widgets/controls",
      "model_module_version": "1.5.0",
      "model_name": "VBoxModel",
      "state": {
       "_dom_classes": [
        "widget-interact"
       ],
       "children": [
        "IPY_MODEL_b77af2ac793846cab98f636e8d755bfb",
        "IPY_MODEL_219ddcc24005441daf5f1a6a39095b06",
        "IPY_MODEL_c42b085e14ee485cbeae8bdb556da217"
       ],
       "layout": "IPY_MODEL_fccf6cdd58994699809177b50063b0c9"
      }
     },
     "1f169c88d4424a2aba40d27d12fc5589": {
      "model_module": "@jupyter-widgets/controls",
      "model_module_version": "1.5.0",
      "model_name": "SliderStyleModel",
      "state": {
       "description_width": ""
      }
     },
     "215dcd7d7ed44fffbda94e818b6769a2": {
      "model_module": "@jupyter-widgets/controls",
      "model_module_version": "1.5.0",
      "model_name": "SliderStyleModel",
      "state": {
       "description_width": ""
      }
     },
     "219ddcc24005441daf5f1a6a39095b06": {
      "model_module": "@jupyter-widgets/controls",
      "model_module_version": "1.5.0",
      "model_name": "IntSliderModel",
      "state": {
       "description": "M",
       "layout": "IPY_MODEL_a8b2ccb6d6eb438a813642c9e2da1c16",
       "max": 15,
       "style": "IPY_MODEL_417decb961c145da8a4f0ca16a6e8cd5",
       "value": 9
      }
     },
     "226abcc6f1114971840593c70d6957d5": {
      "model_module": "@jupyter-widgets/output",
      "model_module_version": "1.0.0",
      "model_name": "OutputModel",
      "state": {
       "layout": "IPY_MODEL_e364b049b76c4726aa971d08f8b13e5a",
       "outputs": [
        {
         "data": {
          "text/plain": "<Figure size 432x288 with 0 Axes>"
         },
         "metadata": {},
         "output_type": "display_data"
        },
        {
         "data": {
          "image/png": "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\n",
          "text/plain": "<Figure size 720x576 with 1 Axes>"
         },
         "metadata": {},
         "output_type": "display_data"
        }
       ]
      }
     },
     "229138f9f9174fe1b381e60b8693729f": {
      "model_module": "@jupyter-widgets/controls",
      "model_module_version": "1.5.0",
      "model_name": "SliderStyleModel",
      "state": {
       "description_width": ""
      }
     },
     "22f1d052f7d2479caa6c426c48710a20": {
      "model_module": "@jupyter-widgets/controls",
      "model_module_version": "1.5.0",
      "model_name": "IntSliderModel",
      "state": {
       "description": "M",
       "layout": "IPY_MODEL_4afc733fcfe2417bba8cdab94eb2e9e8",
       "max": 15,
       "style": "IPY_MODEL_b06936b41b744368930f173f9dc01394",
       "value": 9
      }
     },
     "255efd2549ba46bda6edf883237f9be0": {
      "model_module": "@jupyter-widgets/base",
      "model_module_version": "1.2.0",
      "model_name": "LayoutModel",
      "state": {}
     },
     "271d86a971dc4290994759e1663fde0a": {
      "model_module": "@jupyter-widgets/controls",
      "model_module_version": "1.5.0",
      "model_name": "SliderStyleModel",
      "state": {
       "description_width": ""
      }
     },
     "27396a635b064eafa99c2d12ca6a5cb6": {
      "model_module": "@jupyter-widgets/controls",
      "model_module_version": "1.3.0",
      "model_name": "IntSliderModel",
      "state": {
       "_model_module_version": "1.3.0",
       "_view_module_version": "1.3.0",
       "description": "M",
       "layout": "IPY_MODEL_a642747885504d5a93be043dc3b8b8c4",
       "max": 15,
       "style": "IPY_MODEL_ab5fe5e35e2742f98a2e9a315f4b8775",
       "value": 7
      }
     },
     "2c4fb338bbd2413ab70a8b0af3390a13": {
      "model_module": "@jupyter-widgets/base",
      "model_module_version": "1.2.0",
      "model_name": "LayoutModel",
      "state": {}
     },
     "2d88e6ee4c90433eb01d7648b46c92a7": {
      "model_module": "@jupyter-widgets/controls",
      "model_module_version": "1.5.0",
      "model_name": "SliderStyleModel",
      "state": {
       "description_width": ""
      }
     },
     "2f7b90be618742ddac9128c0875dd130": {
      "model_module": "@jupyter-widgets/controls",
      "model_module_version": "1.5.0",
      "model_name": "IntSliderModel",
      "state": {
       "description": "M",
       "layout": "IPY_MODEL_255efd2549ba46bda6edf883237f9be0",
       "max": 15,
       "style": "IPY_MODEL_2d88e6ee4c90433eb01d7648b46c92a7",
       "value": 9
      }
     },
     "2fa0945efb76487ea8265621018dd72c": {
      "model_module": "@jupyter-widgets/controls",
      "model_module_version": "1.3.0",
      "model_name": "SliderStyleModel",
      "state": {
       "_model_module_version": "1.3.0",
       "description_width": ""
      }
     },
     "304ce2bb5b184bda8d42da6b7b68fbee": {
      "model_module": "@jupyter-widgets/controls",
      "model_module_version": "1.3.0",
      "model_name": "SliderStyleModel",
      "state": {
       "_model_module_version": "1.3.0",
       "description_width": ""
      }
     },
     "3084d3158d3a4264a32858c162ff01d3": {
      "model_module": "@jupyter-widgets/controls",
      "model_module_version": "1.5.0",
      "model_name": "VBoxModel",
      "state": {
       "_dom_classes": [
        "widget-interact"
       ],
       "children": [
        "IPY_MODEL_9517643848064275bbf54578ad891689",
        "IPY_MODEL_4a95faa54c6045b78a12d26c115cb4e6",
        "IPY_MODEL_b69dae509ed54d8e9ebb1ae42fef0d5c"
       ],
       "layout": "IPY_MODEL_07c06470a9ab488ba72b0f9784037991"
      }
     },
     "31e45416547f400988ab90d208fdcfa7": {
      "model_module": "@jupyter-widgets/controls",
      "model_module_version": "1.5.0",
      "model_name": "IntSliderModel",
      "state": {
       "description": "N_train",
       "layout": "IPY_MODEL_946b5654bf9d4126a13643eaf6270d0b",
       "min": 10,
       "style": "IPY_MODEL_cca244feb47b4f51a24b3ec4d1f5e520",
       "value": 52
      }
     },
     "32a12f6868f349589171bc3260e5c84d": {
      "model_module": "@jupyter-widgets/base",
      "model_module_version": "1.2.0",
      "model_name": "LayoutModel",
      "state": {
       "height": "550px"
      }
     },
     "3afc0104caca48b6bd767995f02a8c26": {
      "model_module": "@jupyter-widgets/controls",
      "model_module_version": "1.5.0",
      "model_name": "SliderStyleModel",
      "state": {
       "description_width": ""
      }
     },
     "3c0772c463d74df996615029bb03cea1": {
      "model_module": "@jupyter-widgets/output",
      "model_module_version": "1.0.0",
      "model_name": "OutputModel",
      "state": {
       "layout": "IPY_MODEL_8edae748f28045e8ab2941fc370a3e2e",
       "outputs": [
        {
         "data": {
          "text/plain": "0.28283915244772767"
         },
         "metadata": {},
         "output_type": "display_data"
        }
       ]
      }
     },
     "3d9eda4e726d43ea9f684b8dce702621": {
      "model_module": "@jupyter-widgets/controls",
      "model_module_version": "1.3.0",
      "model_name": "SliderStyleModel",
      "state": {
       "_model_module_version": "1.3.0",
       "description_width": ""
      }
     },
     "417decb961c145da8a4f0ca16a6e8cd5": {
      "model_module": "@jupyter-widgets/controls",
      "model_module_version": "1.5.0",
      "model_name": "SliderStyleModel",
      "state": {
       "description_width": ""
      }
     },
     "421f6ffcb3eb4743890daa8d9b93cf54": {
      "model_module": "@jupyter-widgets/base",
      "model_module_version": "1.2.0",
      "model_name": "LayoutModel",
      "state": {}
     },
     "425d41e0fe5b468cb06e8613920a418d": {
      "model_module": "@jupyter-widgets/controls",
      "model_module_version": "1.5.0",
      "model_name": "VBoxModel",
      "state": {
       "_dom_classes": [
        "widget-interact"
       ],
       "children": [
        "IPY_MODEL_5e96a00b954147feb0d6686dfd31a2fc",
        "IPY_MODEL_0230476da0a848be9bb76fa6a5e5959c",
        "IPY_MODEL_cac3a567ee3745a78e09f892ab11e8dc"
       ],
       "layout": "IPY_MODEL_1b0fdf45ae154379abaa30d1bd2f38d6"
      }
     },
     "47822102be8e412aa34cf95d5de7e982": {
      "model_module": "@jupyter-widgets/base",
      "model_module_version": "1.2.0",
      "model_name": "LayoutModel",
      "state": {}
     },
     "479a2ff4811a4e6783990c5d3195f0d7": {
      "model_module": "@jupyter-widgets/base",
      "model_module_version": "1.2.0",
      "model_name": "LayoutModel",
      "state": {}
     },
     "490e660fc1024f42b7e078977a2fcc3f": {
      "model_module": "@jupyter-widgets/controls",
      "model_module_version": "1.5.0",
      "model_name": "IntSliderModel",
      "state": {
       "description": "M",
       "layout": "IPY_MODEL_1a4eb9f1808944fa80788d8a7a4dc5c3",
       "max": 15,
       "style": "IPY_MODEL_54025e5503bb41938395bfb87ae2373d",
       "value": 7
      }
     },
     "49f4c86811f94f96877e9f8b48ae3b47": {
      "model_module": "@jupyter-widgets/base",
      "model_module_version": "1.2.0",
      "model_name": "LayoutModel",
      "state": {}
     },
     "4a95faa54c6045b78a12d26c115cb4e6": {
      "model_module": "@jupyter-widgets/controls",
      "model_module_version": "1.5.0",
      "model_name": "IntSliderModel",
      "state": {
       "description": "M",
       "layout": "IPY_MODEL_ff0ef7ebbaf44632bbb24220e2a4f418",
       "max": 15,
       "style": "IPY_MODEL_03bae7954a524a29891d415f1a40f39d",
       "value": 7
      }
     },
     "4adda2009fdf4470b272254b009fb121": {
      "model_module": "@jupyter-widgets/base",
      "model_module_version": "1.2.0",
      "model_name": "LayoutModel",
      "state": {}
     },
     "4afc733fcfe2417bba8cdab94eb2e9e8": {
      "model_module": "@jupyter-widgets/base",
      "model_module_version": "1.2.0",
      "model_name": "LayoutModel",
      "state": {}
     },
     "54025e5503bb41938395bfb87ae2373d": {
      "model_module": "@jupyter-widgets/controls",
      "model_module_version": "1.5.0",
      "model_name": "SliderStyleModel",
      "state": {
       "description_width": ""
      }
     },
     "54d77b1427a74d5f88f5fda9c08ebbe9": {
      "model_module": "@jupyter-widgets/base",
      "model_module_version": "1.2.0",
      "model_name": "LayoutModel",
      "state": {}
     },
     "5634242135e24354b186605f59d2261b": {
      "model_module": "@jupyter-widgets/controls",
      "model_module_version": "1.5.0",
      "model_name": "SliderStyleModel",
      "state": {
       "description_width": ""
      }
     },
     "5b45dca1879c45e5828d86ef4eecc2c8": {
      "model_module": "@jupyter-widgets/base",
      "model_module_version": "1.2.0",
      "model_name": "LayoutModel",
      "state": {}
     },
     "5cb79a3842ef4fc19d099728fd97f4a5": {
      "model_module": "@jupyter-widgets/base",
      "model_module_version": "1.2.0",
      "model_name": "LayoutModel",
      "state": {}
     },
     "5e96a00b954147feb0d6686dfd31a2fc": {
      "model_module": "@jupyter-widgets/controls",
      "model_module_version": "1.5.0",
      "model_name": "IntSliderModel",
      "state": {
       "description": "N",
       "layout": "IPY_MODEL_f7b7654bb07444abbd2257835d5b9f52",
       "min": 10,
       "style": "IPY_MODEL_1f169c88d4424a2aba40d27d12fc5589",
       "value": 55
      }
     },
     "5ed9c54c46284f3186f3f4ff648e9dce": {
      "model_module": "@jupyter-widgets/base",
      "model_module_version": "1.2.0",
      "model_name": "LayoutModel",
      "state": {}
     },
     "6144759dc8984a1c82361a923030d163": {
      "model_module": "@jupyter-widgets/controls",
      "model_module_version": "1.5.0",
      "model_name": "VBoxModel",
      "state": {
       "_dom_classes": [
        "widget-interact"
       ],
       "children": [
        "IPY_MODEL_dc6c4bf55e6941019767e8e5b72a72b9",
        "IPY_MODEL_490e660fc1024f42b7e078977a2fcc3f",
        "IPY_MODEL_226abcc6f1114971840593c70d6957d5"
       ],
       "layout": "IPY_MODEL_5ed9c54c46284f3186f3f4ff648e9dce"
      }
     },
     "6148738e655e43058edcfc070397b22d": {
      "model_module": "@jupyter-widgets/controls",
      "model_module_version": "1.5.0",
      "model_name": "VBoxModel",
      "state": {
       "_dom_classes": [
        "widget-interact"
       ],
       "children": [
        "IPY_MODEL_aa86e31b41924fbb8cc89f8cdec00a57",
        "IPY_MODEL_b327e4ad92434c22b07b8dfa84b83216",
        "IPY_MODEL_bfc91b0fda484ff8b92a5c2f9df07188"
       ],
       "layout": "IPY_MODEL_49f4c86811f94f96877e9f8b48ae3b47"
      }
     },
     "67343c2ecca64860bda74301636da649": {
      "model_module": "@jupyter-widgets/base",
      "model_module_version": "1.2.0",
      "model_name": "LayoutModel",
      "state": {
       "height": "550px"
      }
     },
     "68c22fdd1f2f4ba9ace49a5696854737": {
      "model_module": "@jupyter-widgets/output",
      "model_module_version": "1.0.0",
      "model_name": "OutputModel",
      "state": {
       "layout": "IPY_MODEL_b75ed4d645e4444ca6c5f1bc4fbed3e5",
       "outputs": [
        {
         "data": {
          "text/plain": "0.282839152445236"
         },
         "metadata": {},
         "output_type": "display_data"
        }
       ]
      }
     },
     "6b28b0b167fa4e54ae2f855a2e6a844e": {
      "model_module": "@jupyter-widgets/controls",
      "model_module_version": "1.5.0",
      "model_name": "SliderStyleModel",
      "state": {
       "description_width": ""
      }
     },
     "711e92ca6b064ca89655454effff6dfa": {
      "model_module": "@jupyter-widgets/controls",
      "model_module_version": "1.5.0",
      "model_name": "IntSliderModel",
      "state": {
       "description": "N_train",
       "layout": "IPY_MODEL_5cb79a3842ef4fc19d099728fd97f4a5",
       "min": 10,
       "style": "IPY_MODEL_da68ed46e7ca407fb7465cf25b6957b6",
       "value": 55
      }
     },
     "71ca8e7447f642ce9437aea8b751cad7": {
      "model_module": "@jupyter-widgets/output",
      "model_module_version": "1.0.0",
      "model_name": "OutputModel",
      "state": {
       "layout": "IPY_MODEL_fc12a3ca5b374ce4b5a83339c4db7e07",
       "outputs": [
        {
         "data": {
          "text/plain": "0.24384053070231698"
         },
         "metadata": {},
         "output_type": "display_data"
        }
       ]
      }
     },
     "732608f66bb04a198c7958150da73d82": {
      "model_module": "@jupyter-widgets/controls",
      "model_module_version": "1.3.0",
      "model_name": "IntSliderModel",
      "state": {
       "_model_module_version": "1.3.0",
       "_view_module_version": "1.3.0",
       "description": "N_train",
       "layout": "IPY_MODEL_04e3f7cc7a464fa085d13049ab67930c",
       "min": 10,
       "style": "IPY_MODEL_3d9eda4e726d43ea9f684b8dce702621",
       "value": 55
      }
     },
     "753f954f5b844f988b23fde6286c2718": {
      "model_module": "@jupyter-widgets/base",
      "model_module_version": "1.2.0",
      "model_name": "LayoutModel",
      "state": {}
     },
     "75d63f0be520474aaca932b7e8cdc243": {
      "model_module": "@jupyter-widgets/output",
      "model_module_version": "1.0.0",
      "model_name": "OutputModel",
      "state": {
       "layout": "IPY_MODEL_32a12f6868f349589171bc3260e5c84d",
       "outputs": [
        {
         "data": {
          "text/plain": "<Figure size 432x288 with 0 Axes>"
         },
         "metadata": {},
         "output_type": "display_data"
        },
        {
         "data": {
          "image/png": "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\n",
          "text/plain": "<Figure size 720x576 with 1 Axes>"
         },
         "metadata": {
          "needs_background": "light"
         },
         "output_type": "display_data"
        }
       ]
      }
     },
     "77231a15204c4b558eaa8c93d2e0f5b1": {
      "model_module": "@jupyter-widgets/output",
      "model_module_version": "1.0.0",
      "model_name": "OutputModel",
      "state": {
       "layout": "IPY_MODEL_dcaaf7ff3d4345ad95dc824f45271a5d",
       "outputs": [
        {
         "data": {
          "text/plain": "<Figure size 432x288 with 0 Axes>"
         },
         "metadata": {},
         "output_type": "display_data"
        },
        {
         "data": {
          "image/png": "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\n",
          "text/plain": "<Figure size 720x576 with 1 Axes>"
         },
         "metadata": {
          "needs_background": "light"
         },
         "output_type": "display_data"
        }
       ]
      }
     },
     "788f3883be5649ad88309c877bcae5d0": {
      "model_module": "@jupyter-widgets/controls",
      "model_module_version": "1.5.0",
      "model_name": "VBoxModel",
      "state": {
       "_dom_classes": [
        "widget-interact"
       ],
       "children": [
        "IPY_MODEL_f237331abef34c31a2f052441d2a3cf3",
        "IPY_MODEL_1bc55c107fdd49d6a6bc3f6ec93e822a",
        "IPY_MODEL_75d63f0be520474aaca932b7e8cdc243"
       ],
       "layout": "IPY_MODEL_79b6b3b0054c4160b231098bbe658344"
      }
     },
     "7922f44d2a5442379a2f22c6d1d85050": {
      "model_module": "@jupyter-widgets/base",
      "model_module_version": "1.2.0",
      "model_name": "LayoutModel",
      "state": {}
     },
     "79b6b3b0054c4160b231098bbe658344": {
      "model_module": "@jupyter-widgets/base",
      "model_module_version": "1.2.0",
      "model_name": "LayoutModel",
      "state": {}
     },
     "815a46d1085049dbbf871976593ab3ca": {
      "model_module": "@jupyter-widgets/base",
      "model_module_version": "1.2.0",
      "model_name": "LayoutModel",
      "state": {}
     },
     "86b2ec4163444074bbb35eeb979a7050": {
      "model_module": "@jupyter-widgets/controls",
      "model_module_version": "1.5.0",
      "model_name": "IntSliderModel",
      "state": {
       "description": "N_train",
       "layout": "IPY_MODEL_1c19700233f74afcbfd9a68cb21e5ffb",
       "min": 10,
       "style": "IPY_MODEL_b5ee14bccf724ee487fc38443e9b835d",
       "value": 55
      }
     },
     "8864425edf6a4676aa4d68b2337e9b81": {
      "model_module": "@jupyter-widgets/controls",
      "model_module_version": "1.5.0",
      "model_name": "IntSliderModel",
      "state": {
       "description": "N",
       "layout": "IPY_MODEL_4adda2009fdf4470b272254b009fb121",
       "min": 10,
       "style": "IPY_MODEL_f1f549d29a364fee81a09fe78b32ec8a",
       "value": 40
      }
     },
     "89cac04dbe4142028647893d47f12b0d": {
      "model_module": "@jupyter-widgets/controls",
      "model_module_version": "1.5.0",
      "model_name": "IntSliderModel",
      "state": {
       "description": "M",
       "layout": "IPY_MODEL_be0d38dd18b44031b9df3a63271e85b7",
       "max": 15,
       "style": "IPY_MODEL_da7df50a40134fd3be4e3a9280693769",
       "value": 7
      }
     },
     "8a7ed5c7f4224a5f80f6e9078069c334": {
      "model_module": "@jupyter-widgets/controls",
      "model_module_version": "1.5.0",
      "model_name": "IntSliderModel",
      "state": {
       "description": "M",
       "layout": "IPY_MODEL_c28759db7669435082ea177069097a92",
       "max": 15,
       "style": "IPY_MODEL_215dcd7d7ed44fffbda94e818b6769a2",
       "value": 9
      }
     },
     "8e36ef33610e467bbe936dca1a8d8e2d": {
      "model_module": "@jupyter-widgets/base",
      "model_module_version": "1.2.0",
      "model_name": "LayoutModel",
      "state": {}
     },
     "8edae748f28045e8ab2941fc370a3e2e": {
      "model_module": "@jupyter-widgets/base",
      "model_module_version": "1.2.0",
      "model_name": "LayoutModel",
      "state": {}
     },
     "90a64b504f504ee88f93183eb9c0518d": {
      "model_module": "@jupyter-widgets/controls",
      "model_module_version": "1.3.0",
      "model_name": "IntSliderModel",
      "state": {
       "_model_module_version": "1.3.0",
       "_view_module_version": "1.3.0",
       "description": "M",
       "layout": "IPY_MODEL_d84adb16d21044cd9b4c9879ecb83918",
       "max": 15,
       "style": "IPY_MODEL_304ce2bb5b184bda8d42da6b7b68fbee",
       "value": 9
      }
     },
     "9246f4c39d8c499e9c42c478ae54bbef": {
      "model_module": "@jupyter-widgets/base",
      "model_module_version": "1.2.0",
      "model_name": "LayoutModel",
      "state": {}
     },
     "93013ac09e9d4c999338c94d027c2add": {
      "model_module": "@jupyter-widgets/output",
      "model_module_version": "1.0.0",
      "model_name": "OutputModel",
      "state": {
       "layout": "IPY_MODEL_f0e64cd892ba45ceb66a756a834616b1",
       "outputs": [
        {
         "data": {
          "text/plain": "0.282839152445236"
         },
         "metadata": {},
         "output_type": "display_data"
        }
       ]
      }
     },
     "946b5654bf9d4126a13643eaf6270d0b": {
      "model_module": "@jupyter-widgets/base",
      "model_module_version": "1.2.0",
      "model_name": "LayoutModel",
      "state": {}
     },
     "9517643848064275bbf54578ad891689": {
      "model_module": "@jupyter-widgets/controls",
      "model_module_version": "1.5.0",
      "model_name": "IntSliderModel",
      "state": {
       "description": "N",
       "layout": "IPY_MODEL_5b45dca1879c45e5828d86ef4eecc2c8",
       "min": 10,
       "style": "IPY_MODEL_229138f9f9174fe1b381e60b8693729f",
       "value": 55
      }
     },
     "95c10f58a95f4f8c95c11405428ee902": {
      "model_module": "@jupyter-widgets/controls",
      "model_module_version": "1.5.0",
      "model_name": "IntSliderModel",
      "state": {
       "description": "M",
       "layout": "IPY_MODEL_47822102be8e412aa34cf95d5de7e982",
       "max": 15,
       "style": "IPY_MODEL_c648e0c08e9849928d4c595d816708af",
       "value": 9
      }
     },
     "95e89ca0eb3a4be785403b5dd438e540": {
      "model_module": "@jupyter-widgets/base",
      "model_module_version": "1.2.0",
      "model_name": "LayoutModel",
      "state": {}
     },
     "9b5b4adfcda64cbea2dfef922b1c2454": {
      "model_module": "@jupyter-widgets/controls",
      "model_module_version": "1.5.0",
      "model_name": "VBoxModel",
      "state": {
       "_dom_classes": [
        "widget-interact"
       ],
       "children": [
        "IPY_MODEL_86b2ec4163444074bbb35eeb979a7050",
        "IPY_MODEL_22f1d052f7d2479caa6c426c48710a20",
        "IPY_MODEL_10f28d1108e74306b24cab17ef0c5c85"
       ],
       "layout": "IPY_MODEL_7922f44d2a5442379a2f22c6d1d85050"
      }
     },
     "9c9bd81560564c499b68085cfed5cfb3": {
      "model_module": "@jupyter-widgets/controls",
      "model_module_version": "1.5.0",
      "model_name": "SliderStyleModel",
      "state": {
       "description_width": ""
      }
     },
     "a642747885504d5a93be043dc3b8b8c4": {
      "model_module": "@jupyter-widgets/base",
      "model_module_version": "1.2.0",
      "model_name": "LayoutModel",
      "state": {}
     },
     "a8b2ccb6d6eb438a813642c9e2da1c16": {
      "model_module": "@jupyter-widgets/base",
      "model_module_version": "1.2.0",
      "model_name": "LayoutModel",
      "state": {}
     },
     "aa86e31b41924fbb8cc89f8cdec00a57": {
      "model_module": "@jupyter-widgets/controls",
      "model_module_version": "1.5.0",
      "model_name": "IntSliderModel",
      "state": {
       "description": "N",
       "layout": "IPY_MODEL_b8c46175ba1b441291948b29ca2c0fa4",
       "min": 10,
       "style": "IPY_MODEL_6b28b0b167fa4e54ae2f855a2e6a844e",
       "value": 55
      }
     },
     "ab5fe5e35e2742f98a2e9a315f4b8775": {
      "model_module": "@jupyter-widgets/controls",
      "model_module_version": "1.3.0",
      "model_name": "SliderStyleModel",
      "state": {
       "_model_module_version": "1.3.0",
       "description_width": ""
      }
     },
     "b06936b41b744368930f173f9dc01394": {
      "model_module": "@jupyter-widgets/controls",
      "model_module_version": "1.5.0",
      "model_name": "SliderStyleModel",
      "state": {
       "description_width": ""
      }
     },
     "b21e42db2fe649ffbbf633a6b6a48b1e": {
      "model_module": "@jupyter-widgets/controls",
      "model_module_version": "1.3.0",
      "model_name": "VBoxModel",
      "state": {
       "_dom_classes": [
        "widget-interact"
       ],
       "_model_module_version": "1.3.0",
       "_view_module_version": "1.3.0",
       "children": [
        "IPY_MODEL_10cfecb3388a441299f4c1dafeebef22",
        "IPY_MODEL_27396a635b064eafa99c2d12ca6a5cb6",
        "IPY_MODEL_0ec87e3aab6b4a4a9af32edbc0cfe070"
       ],
       "layout": "IPY_MODEL_d5aa94d22c904dec8fa490bf4f745a09"
      }
     },
     "b327e4ad92434c22b07b8dfa84b83216": {
      "model_module": "@jupyter-widgets/controls",
      "model_module_version": "1.5.0",
      "model_name": "IntSliderModel",
      "state": {
       "description": "M",
       "layout": "IPY_MODEL_ddcd7c398aa3441c8387e751b96c6b01",
       "max": 15,
       "style": "IPY_MODEL_e7cb6752ecde48d2b22d3a4007997de0",
       "value": 7
      }
     },
     "b38bc5b1c43044759db4309b9e384695": {
      "model_module": "@jupyter-widgets/base",
      "model_module_version": "1.2.0",
      "model_name": "LayoutModel",
      "state": {}
     },
     "b5ee14bccf724ee487fc38443e9b835d": {
      "model_module": "@jupyter-widgets/controls",
      "model_module_version": "1.5.0",
      "model_name": "SliderStyleModel",
      "state": {
       "description_width": ""
      }
     },
     "b69dae509ed54d8e9ebb1ae42fef0d5c": {
      "model_module": "@jupyter-widgets/output",
      "model_module_version": "1.0.0",
      "model_name": "OutputModel",
      "state": {
       "layout": "IPY_MODEL_67343c2ecca64860bda74301636da649",
       "outputs": [
        {
         "data": {
          "text/plain": "<Figure size 432x288 with 0 Axes>"
         },
         "metadata": {},
         "output_type": "display_data"
        },
        {
         "data": {
          "image/png": "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\n",
          "text/plain": "<Figure size 720x576 with 1 Axes>"
         },
         "metadata": {
          "needs_background": "light"
         },
         "output_type": "display_data"
        }
       ]
      }
     },
     "b75ed4d645e4444ca6c5f1bc4fbed3e5": {
      "model_module": "@jupyter-widgets/base",
      "model_module_version": "1.2.0",
      "model_name": "LayoutModel",
      "state": {}
     },
     "b77af2ac793846cab98f636e8d755bfb": {
      "model_module": "@jupyter-widgets/controls",
      "model_module_version": "1.5.0",
      "model_name": "IntSliderModel",
      "state": {
       "description": "N_train",
       "layout": "IPY_MODEL_d7d2313d58e342cc8403bf201cffc162",
       "min": 10,
       "style": "IPY_MODEL_e5ae91dbb68343cebb361936505079f9",
       "value": 55
      }
     },
     "b8c46175ba1b441291948b29ca2c0fa4": {
      "model_module": "@jupyter-widgets/base",
      "model_module_version": "1.2.0",
      "model_name": "LayoutModel",
      "state": {}
     },
     "bbd32f22a7844567860be333421d60bb": {
      "model_module": "@jupyter-widgets/controls",
      "model_module_version": "1.5.0",
      "model_name": "IntSliderModel",
      "state": {
       "description": "N_train",
       "layout": "IPY_MODEL_0df3e66bd2cc43fc9175ded4faa00b43",
       "min": 10,
       "style": "IPY_MODEL_271d86a971dc4290994759e1663fde0a",
       "value": 55
      }
     },
     "bbe80b5596a948c1a7aa25e699ca529c": {
      "model_module": "@jupyter-widgets/base",
      "model_module_version": "1.2.0",
      "model_name": "LayoutModel",
      "state": {}
     },
     "be0d38dd18b44031b9df3a63271e85b7": {
      "model_module": "@jupyter-widgets/base",
      "model_module_version": "1.2.0",
      "model_name": "LayoutModel",
      "state": {}
     },
     "bfc91b0fda484ff8b92a5c2f9df07188": {
      "model_module": "@jupyter-widgets/output",
      "model_module_version": "1.0.0",
      "model_name": "OutputModel",
      "state": {
       "layout": "IPY_MODEL_f7b7789259554f84b73b711658d4e594",
       "outputs": [
        {
         "data": {
          "text/plain": "<Figure size 432x288 with 0 Axes>"
         },
         "metadata": {},
         "output_type": "display_data"
        },
        {
         "data": {
          "image/png": "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\n",
          "text/plain": "<Figure size 720x576 with 1 Axes>"
         },
         "metadata": {
          "needs_background": "light"
         },
         "output_type": "display_data"
        }
       ]
      }
     },
     "bfe1ae2e09684cfaaf55654e08405ccd": {
      "model_module": "@jupyter-widgets/base",
      "model_module_version": "1.2.0",
      "model_name": "LayoutModel",
      "state": {}
     },
     "c19f2ebfbb7d4dd696eb25f1d54d8ddb": {
      "model_module": "@jupyter-widgets/controls",
      "model_module_version": "1.5.0",
      "model_name": "VBoxModel",
      "state": {
       "_dom_classes": [
        "widget-interact"
       ],
       "children": [
        "IPY_MODEL_8864425edf6a4676aa4d68b2337e9b81",
        "IPY_MODEL_89cac04dbe4142028647893d47f12b0d",
        "IPY_MODEL_77231a15204c4b558eaa8c93d2e0f5b1"
       ],
       "layout": "IPY_MODEL_479a2ff4811a4e6783990c5d3195f0d7"
      }
     },
     "c28759db7669435082ea177069097a92": {
      "model_module": "@jupyter-widgets/base",
      "model_module_version": "1.2.0",
      "model_name": "LayoutModel",
      "state": {}
     },
     "c42b085e14ee485cbeae8bdb556da217": {
      "model_module": "@jupyter-widgets/output",
      "model_module_version": "1.0.0",
      "model_name": "OutputModel",
      "state": {
       "layout": "IPY_MODEL_95e89ca0eb3a4be785403b5dd438e540",
       "outputs": [
        {
         "data": {
          "text/plain": "0.28283915244995245"
         },
         "metadata": {},
         "output_type": "display_data"
        }
       ]
      }
     },
     "c648e0c08e9849928d4c595d816708af": {
      "model_module": "@jupyter-widgets/controls",
      "model_module_version": "1.5.0",
      "model_name": "SliderStyleModel",
      "state": {
       "description_width": ""
      }
     },
     "c98039a8154d440e9cedbb4a80063042": {
      "model_module": "@jupyter-widgets/base",
      "model_module_version": "1.2.0",
      "model_name": "LayoutModel",
      "state": {}
     },
     "cac3a567ee3745a78e09f892ab11e8dc": {
      "model_module": "@jupyter-widgets/output",
      "model_module_version": "1.0.0",
      "model_name": "OutputModel",
      "state": {
       "layout": "IPY_MODEL_cd4b487f086c4be782c0456918bc91c1",
       "outputs": [
        {
         "data": {
          "text/plain": "<Figure size 432x288 with 0 Axes>"
         },
         "metadata": {},
         "output_type": "display_data"
        },
        {
         "data": {
          "image/png": "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\n",
          "text/plain": "<Figure size 720x576 with 1 Axes>"
         },
         "metadata": {
          "needs_background": "light"
         },
         "output_type": "display_data"
        }
       ]
      }
     },
     "cc846a273dd7444cbd6e88d3380341b7": {
      "model_module": "@jupyter-widgets/controls",
      "model_module_version": "1.5.0",
      "model_name": "VBoxModel",
      "state": {
       "_dom_classes": [
        "widget-interact"
       ],
       "children": [
        "IPY_MODEL_bbd32f22a7844567860be333421d60bb",
        "IPY_MODEL_2f7b90be618742ddac9128c0875dd130",
        "IPY_MODEL_3c0772c463d74df996615029bb03cea1"
       ],
       "layout": "IPY_MODEL_f5fd9f4d17614ee6a6f353370b7359a4"
      }
     },
     "cca244feb47b4f51a24b3ec4d1f5e520": {
      "model_module": "@jupyter-widgets/controls",
      "model_module_version": "1.5.0",
      "model_name": "SliderStyleModel",
      "state": {
       "description_width": ""
      }
     },
     "cd4b487f086c4be782c0456918bc91c1": {
      "model_module": "@jupyter-widgets/base",
      "model_module_version": "1.2.0",
      "model_name": "LayoutModel",
      "state": {
       "height": "550px"
      }
     },
     "d5aa94d22c904dec8fa490bf4f745a09": {
      "model_module": "@jupyter-widgets/base",
      "model_module_version": "1.2.0",
      "model_name": "LayoutModel",
      "state": {}
     },
     "d7472bb333324d1dbba626414f6e5a29": {
      "model_module": "@jupyter-widgets/controls",
      "model_module_version": "1.5.0",
      "model_name": "SliderStyleModel",
      "state": {
       "description_width": ""
      }
     },
     "d7d2313d58e342cc8403bf201cffc162": {
      "model_module": "@jupyter-widgets/base",
      "model_module_version": "1.2.0",
      "model_name": "LayoutModel",
      "state": {}
     },
     "d84adb16d21044cd9b4c9879ecb83918": {
      "model_module": "@jupyter-widgets/base",
      "model_module_version": "1.2.0",
      "model_name": "LayoutModel",
      "state": {}
     },
     "d883528e84004a09a2f45baf0efdc2da": {
      "model_module": "@jupyter-widgets/controls",
      "model_module_version": "1.5.0",
      "model_name": "SliderStyleModel",
      "state": {
       "description_width": ""
      }
     },
     "da68ed46e7ca407fb7465cf25b6957b6": {
      "model_module": "@jupyter-widgets/controls",
      "model_module_version": "1.5.0",
      "model_name": "SliderStyleModel",
      "state": {
       "description_width": ""
      }
     },
     "da7df50a40134fd3be4e3a9280693769": {
      "model_module": "@jupyter-widgets/controls",
      "model_module_version": "1.5.0",
      "model_name": "SliderStyleModel",
      "state": {
       "description_width": ""
      }
     },
     "dc6c4bf55e6941019767e8e5b72a72b9": {
      "model_module": "@jupyter-widgets/controls",
      "model_module_version": "1.5.0",
      "model_name": "IntSliderModel",
      "state": {
       "description": "N",
       "layout": "IPY_MODEL_037527e6475241da854b3b6312365260",
       "min": 10,
       "style": "IPY_MODEL_fba6185a14444095b0403b5cc7070af7",
       "value": 55
      }
     },
     "dcaaf7ff3d4345ad95dc824f45271a5d": {
      "model_module": "@jupyter-widgets/base",
      "model_module_version": "1.2.0",
      "model_name": "LayoutModel",
      "state": {
       "height": "550px"
      }
     },
     "dd38b7c9a4f349ff92c323dd34c2cdc5": {
      "model_module": "@jupyter-widgets/base",
      "model_module_version": "1.2.0",
      "model_name": "LayoutModel",
      "state": {
       "height": "550px"
      }
     },
     "ddcd7c398aa3441c8387e751b96c6b01": {
      "model_module": "@jupyter-widgets/base",
      "model_module_version": "1.2.0",
      "model_name": "LayoutModel",
      "state": {}
     },
     "df1d135507f3436cbbd6316cc633e57e": {
      "model_module": "@jupyter-widgets/output",
      "model_module_version": "1.0.0",
      "model_name": "OutputModel",
      "state": {
       "layout": "IPY_MODEL_bfe1ae2e09684cfaaf55654e08405ccd",
       "outputs": [
        {
         "data": {
          "text/plain": "0.28283915244562235"
         },
         "metadata": {},
         "output_type": "display_data"
        }
       ]
      }
     },
     "e2cf6d534d334a0e81dc5c1be71bbdfc": {
      "model_module": "@jupyter-widgets/controls",
      "model_module_version": "1.5.0",
      "model_name": "IntSliderModel",
      "state": {
       "description": "M",
       "layout": "IPY_MODEL_54d77b1427a74d5f88f5fda9c08ebbe9",
       "max": 15,
       "style": "IPY_MODEL_9c9bd81560564c499b68085cfed5cfb3",
       "value": 9
      }
     },
     "e364b049b76c4726aa971d08f8b13e5a": {
      "model_module": "@jupyter-widgets/base",
      "model_module_version": "1.2.0",
      "model_name": "LayoutModel",
      "state": {
       "height": "550px"
      }
     },
     "e5ae91dbb68343cebb361936505079f9": {
      "model_module": "@jupyter-widgets/controls",
      "model_module_version": "1.5.0",
      "model_name": "SliderStyleModel",
      "state": {
       "description_width": ""
      }
     },
     "e7cb6752ecde48d2b22d3a4007997de0": {
      "model_module": "@jupyter-widgets/controls",
      "model_module_version": "1.5.0",
      "model_name": "SliderStyleModel",
      "state": {
       "description_width": ""
      }
     },
     "eff4db1a2b0e4b2fb2d66c359dd71a75": {
      "model_module": "@jupyter-widgets/controls",
      "model_module_version": "1.5.0",
      "model_name": "VBoxModel",
      "state": {
       "_dom_classes": [
        "widget-interact"
       ],
       "children": [
        "IPY_MODEL_711e92ca6b064ca89655454effff6dfa",
        "IPY_MODEL_e2cf6d534d334a0e81dc5c1be71bbdfc",
        "IPY_MODEL_68c22fdd1f2f4ba9ace49a5696854737"
       ],
       "layout": "IPY_MODEL_815a46d1085049dbbf871976593ab3ca"
      }
     },
     "f0e64cd892ba45ceb66a756a834616b1": {
      "model_module": "@jupyter-widgets/base",
      "model_module_version": "1.2.0",
      "model_name": "LayoutModel",
      "state": {}
     },
     "f1849b2698f64dd78429c4aec87dbe3a": {
      "model_module": "@jupyter-widgets/controls",
      "model_module_version": "1.5.0",
      "model_name": "VBoxModel",
      "state": {
       "_dom_classes": [
        "widget-interact"
       ],
       "children": [
        "IPY_MODEL_08e6cfaca188402b87ec49dc0ca99ad8",
        "IPY_MODEL_95c10f58a95f4f8c95c11405428ee902",
        "IPY_MODEL_93013ac09e9d4c999338c94d027c2add"
       ],
       "layout": "IPY_MODEL_2c4fb338bbd2413ab70a8b0af3390a13"
      }
     },
     "f1f549d29a364fee81a09fe78b32ec8a": {
      "model_module": "@jupyter-widgets/controls",
      "model_module_version": "1.5.0",
      "model_name": "SliderStyleModel",
      "state": {
       "description_width": ""
      }
     },
     "f237331abef34c31a2f052441d2a3cf3": {
      "model_module": "@jupyter-widgets/controls",
      "model_module_version": "1.5.0",
      "model_name": "IntSliderModel",
      "state": {
       "description": "N",
       "layout": "IPY_MODEL_421f6ffcb3eb4743890daa8d9b93cf54",
       "min": 10,
       "style": "IPY_MODEL_d7472bb333324d1dbba626414f6e5a29",
       "value": 55
      }
     },
     "f5fd9f4d17614ee6a6f353370b7359a4": {
      "model_module": "@jupyter-widgets/base",
      "model_module_version": "1.2.0",
      "model_name": "LayoutModel",
      "state": {}
     },
     "f7b7654bb07444abbd2257835d5b9f52": {
      "model_module": "@jupyter-widgets/base",
      "model_module_version": "1.2.0",
      "model_name": "LayoutModel",
      "state": {}
     },
     "f7b7789259554f84b73b711658d4e594": {
      "model_module": "@jupyter-widgets/base",
      "model_module_version": "1.2.0",
      "model_name": "LayoutModel",
      "state": {
       "height": "550px"
      }
     },
     "fba6185a14444095b0403b5cc7070af7": {
      "model_module": "@jupyter-widgets/controls",
      "model_module_version": "1.5.0",
      "model_name": "SliderStyleModel",
      "state": {
       "description_width": ""
      }
     },
     "fc12a3ca5b374ce4b5a83339c4db7e07": {
      "model_module": "@jupyter-widgets/base",
      "model_module_version": "1.2.0",
      "model_name": "LayoutModel",
      "state": {}
     },
     "fccf6cdd58994699809177b50063b0c9": {
      "model_module": "@jupyter-widgets/base",
      "model_module_version": "1.2.0",
      "model_name": "LayoutModel",
      "state": {}
     },
     "ff0ef7ebbaf44632bbb24220e2a4f418": {
      "model_module": "@jupyter-widgets/base",
      "model_module_version": "1.2.0",
      "model_name": "LayoutModel",
      "state": {}
     }
    },
    "version_major": 2,
    "version_minor": 0
   }
  }
 },
 "nbformat": 4,
 "nbformat_minor": 4
}
